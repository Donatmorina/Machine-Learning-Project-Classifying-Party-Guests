{
 "cells": [
  {
   "cell_type": "code",
   "execution_count": 8,
   "metadata": {},
   "outputs": [
    {
     "name": "stdout",
     "output_type": "stream",
     "text": [
      "Forvekslingsmatrise:\n",
      "[[49 30]\n",
      " [22 99]]\n",
      "Trenings nøyaktighet for k=5: 0.81\n",
      "Test nøyaktighet for k=5: 0.74\n",
      "Presisjon for ok gjester: 0.77\n"
     ]
    }
   ],
   "source": [
    "#K-nærmeste-nabo\n",
    "\n",
    "import pandas as pd\n",
    "import numpy as np\n",
    "from sklearn.model_selection import train_test_split\n",
    "from sklearn.preprocessing import OrdinalEncoder\n",
    "from sklearn.neighbors import KNeighborsClassifier\n",
    "from sklearn.metrics import accuracy_score, confusion_matrix, precision_score\n",
    "\n",
    "data = pd.read_csv(\"party_data(csv).csv\", sep=\";\")\n",
    "\n",
    "#print(data.columns)\n",
    "\n",
    "data_encoded = pd.get_dummies(data)\n",
    "data_encoded = data_encoded.astype(int)\n",
    "x = data_encoded.drop([\"ok guest_ok\",\"ok guest_not ok\"], axis=1)\n",
    "y = data_encoded[\"ok guest_ok\"]\n",
    "\n",
    "x_train, x_test, y_train, y_test = train_test_split(x, y, test_size = 0.2, random_state=7)\n",
    "knn = KNeighborsClassifier(n_neighbors=5)\n",
    "knn.fit(x_train, y_train)\n",
    "\n",
    "y_test_pred = knn.predict(x_test)\n",
    "y_train_pred = knn.predict(x_train)\n",
    "test_accuracy = accuracy_score(y_test, y_test_pred)\n",
    "train_accuracy = accuracy_score(y_train, y_train_pred)\n",
    "precision = precision_score(y_test, y_test_pred, pos_label=1)\n",
    "conf_matrix = confusion_matrix(y_test, y_test_pred)\n",
    "print('Forvekslingsmatrise:')\n",
    "print(conf_matrix)\n",
    "print(f\"Trenings nøyaktighet for k=5: {train_accuracy:.2f}\")\n",
    "print(f\"Test nøyaktighet for k=5: {test_accuracy:.2f}\")\n",
    "print(f\"Presisjon for ok gjester: {precision:.2f}\")\n",
    "#print(data_encoded.head())\n"
   ]
  },
  {
   "cell_type": "code",
   "execution_count": 3,
   "metadata": {},
   "outputs": [
    {
     "name": "stdout",
     "output_type": "stream",
     "text": [
      "[[ 52  27]\n",
      " [ 14 107]]\n",
      "Nøyaktighet med regularisering 0.80\n",
      "Nøyaktigheten uten regularisering: 0.79\n",
      "Nøyaktighet trening 0.81\n",
      "Nøyaktighet test 0.74\n",
      "Presisjon testsett 0.77\n"
     ]
    }
   ],
   "source": [
    "#Logistisk regresjon\n",
    "\n",
    "import pandas as pd\n",
    "import numpy as np\n",
    "from sklearn.model_selection import train_test_split\n",
    "from sklearn.linear_model import LogisticRegression\n",
    "from sklearn.metrics import accuracy_score, confusion_matrix, precision_score\n",
    "\n",
    "data = pd.read_csv(\"party_data(csv).csv\", sep=\";\") #leser inn datasettet ved hjelp av pandas read. Bruker sep=\";\" da skille i csv-filen er \";\" istedenfor \",\"\n",
    "data_encoded = pd.get_dummies(data, drop_first=True) #Bruker pandas.get_dummies() for å konvertere kategoriske kolonner til flere kolonner med 0 og 1.\n",
    "x = data_encoded.drop(\"ok guest_ok\", axis=1)\n",
    "y = data_encoded[\"ok guest_ok\"]\n",
    "x_train, x_test, y_train, y_test = train_test_split(x, y, test_size=0.2, random_state=7)\n",
    "log_reg = LogisticRegression(penalty=\"l2\")\n",
    "log_reg.fit(x_train, y_train)\n",
    "\n",
    "y_pred = log_reg.predict(x_test)\n",
    "accuracy = accuracy_score(y_test, y_pred)\n",
    "conf_matrix = confusion_matrix(y_test, y_pred)\n",
    "print(conf_matrix)\n",
    "print(f\"Nøyaktighet med regularisering {accuracy:.2f}\")\n",
    "\n",
    "log_reg_no_penalty = LogisticRegression(penalty=None)\n",
    "log_reg_no_penalty.fit(x_train, y_train)\n",
    "y_pred_no_penalty = log_reg_no_penalty.predict(x_test)\n",
    "accuracy_no_penalty = accuracy_score(y_test, y_pred_no_penalty)\n",
    "\n",
    "train_accuracy = accuracy_score(y_train, y_train_pred)\n",
    "test_accuracy = accuracy_score(y_test, y_test_pred)\n",
    "\n",
    "precision = precision_score(y_test, y_test_pred)\n",
    "\n",
    "print(f\"Nøyaktigheten uten regularisering: {accuracy_no_penalty:.2f}\")\n",
    "print(f\"Nøyaktighet trening {train_accuracy:.2f}\")\n",
    "print(f\"Nøyaktighet test {test_accuracy:.2f}\")\n",
    "print(f\"Presisjon testsett {precision:.2f}\")\n",
    "#print(data_encoded.head())"
   ]
  },
  {
   "cell_type": "code",
   "execution_count": 4,
   "metadata": {},
   "outputs": [
    {
     "name": "stdout",
     "output_type": "stream",
     "text": [
      "Gini accuracy (Train): 0.9325\n",
      "Gini accuracy (Test) 0.68\n",
      "Gini confusion matrix (test):\n",
      " [[53 26]\n",
      " [38 83]]\n",
      "Entropy Accuracy (Train): 0.9325\n",
      "Entropy Accuracy (Test): 0.66\n",
      "Entropy Confusion Matrix (Test):\n",
      " [[51 28]\n",
      " [40 81]]\n",
      "Presisjon for ok gjester: 0.74\n"
     ]
    }
   ],
   "source": [
    "#Avgjerdstre\n",
    "import pandas as pd\n",
    "from sklearn.model_selection import train_test_split\n",
    "from sklearn.tree import DecisionTreeClassifier\n",
    "from sklearn.metrics import accuracy_score, confusion_matrix\n",
    "\n",
    "data = pd.read_csv(\"party_data(csv).csv\", sep=\";\")\n",
    "data[\"ok guest\"] = data[\"ok guest\"].map({\"ok\": 1, \"not ok\": 0})\n",
    "#print(data.columns)\n",
    "data_encoded = pd.get_dummies(data, columns=[\"gender\", \"age\", \"study\", \"activity\", \"music\", \"is dancer\"], drop_first=False)\n",
    "\n",
    "x = data_encoded.drop(columns=[\"ok guest\"])\n",
    "y = data_encoded[\"ok guest\"]\n",
    "x_train, x_test, y_train, y_test = train_test_split(x, y, test_size=0.2, random_state=7)\n",
    "\n",
    "tree_gini = DecisionTreeClassifier(criterion=\"gini\", random_state=7)\n",
    "tree_gini.fit(x_train, y_train)\n",
    "y_train_pred_gini = tree_gini.predict(x_train)\n",
    "y_test_pred_gini = tree_gini.predict(x_test)\n",
    "print(\"Gini accuracy (Train):\", accuracy_score(y_train, y_train_pred_gini))\n",
    "print(\"Gini accuracy (Test)\", accuracy_score(y_test, y_test_pred_gini))\n",
    "print(\"Gini confusion matrix (test):\\n\", confusion_matrix(y_test, y_test_pred_gini))\n",
    "\n",
    "\n",
    "tree_entropy= DecisionTreeClassifier(criterion=\"entropy\", random_state=7)\n",
    "tree_entropy.fit(x_train, y_train)\n",
    "y_train_pred_entropy = tree_entropy.predict(x_train)\n",
    "y_test_pred_entropy = tree_entropy.predict(x_test)\n",
    "\n",
    "precision = precision_score(y_test, y_test_pred_entropy, pos_label = 1) \n",
    "\n",
    "print(\"Entropy Accuracy (Train):\", accuracy_score(y_train, y_train_pred_entropy))\n",
    "print(\"Entropy Accuracy (Test):\", accuracy_score(y_test, y_test_pred_entropy))\n",
    "print(\"Entropy Confusion Matrix (Test):\\n\", confusion_matrix(y_test, y_test_pred_entropy))\n",
    "print(f\"Presisjon for ok gjester: {precision:.2f}\")\n",
    "\n"
   ]
  }
 ],
 "metadata": {
  "kernelspec": {
   "display_name": "Python 3",
   "language": "python",
   "name": "python3"
  },
  "language_info": {
   "codemirror_mode": {
    "name": "ipython",
    "version": 3
   },
   "file_extension": ".py",
   "mimetype": "text/x-python",
   "name": "python",
   "nbconvert_exporter": "python",
   "pygments_lexer": "ipython3",
   "version": "3.12.4"
  }
 },
 "nbformat": 4,
 "nbformat_minor": 2
}
